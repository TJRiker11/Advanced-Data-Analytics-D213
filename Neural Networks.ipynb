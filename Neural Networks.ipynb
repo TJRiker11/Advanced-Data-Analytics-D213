{
 "cells": [
  {
   "cell_type": "markdown",
   "id": "85099f9a",
   "metadata": {},
   "source": [
    "# Neural Networks"
   ]
  },
  {
   "cell_type": "markdown",
   "id": "60a20008",
   "metadata": {},
   "source": [
    "## Part I:  Research Question"
   ]
  },
  {
   "cell_type": "markdown",
   "id": "06345b64",
   "metadata": {},
   "source": [
    "Can we find customer sentiment (liked/disliked) of products from the wording choices of their reviews?\n",
    "\n",
    "The goal of this project is to use Natural Language Processing to take the reviews that customers wrote and use their language and wording to predict if the customer either liked or disliked the product.\n",
    "\n",
    "We will be using TensorFlow neural networks for this analysis."
   ]
  },
  {
   "cell_type": "markdown",
   "id": "860a5514",
   "metadata": {},
   "source": [
    "## Part II:  Data Preparation"
   ]
  },
  {
   "cell_type": "code",
   "execution_count": 118,
   "id": "f4773e77",
   "metadata": {},
   "outputs": [],
   "source": [
    "# Importing Packages to be used\n",
    "import json\n",
    "import pandas as pd\n",
    "import gzip\n",
    "import numpy as np\n",
    "import pandas as pd\n",
    "import matplotlib.pyplot as plt\n",
    "import matplotlib.image as mpimg\n",
    "%matplotlib inline\n",
    "import seaborn as sns\n",
    "import tensorflow as tf\n",
    "from tensorflow.keras.preprocessing.text import Tokenizer\n",
    "from tensorflow.keras.preprocessing.sequence import pad_sequences\n",
    "from keras import callbacks"
   ]
  },
  {
   "cell_type": "code",
   "execution_count": 56,
   "id": "6c1a74c9",
   "metadata": {},
   "outputs": [],
   "source": [
    "# Parse for json gzip file\n",
    "def parse(path):\n",
    "  g = gzip.open(path, 'rb')\n",
    "  for l in g:\n",
    "    yield json.loads(l)"
   ]
  },
  {
   "cell_type": "code",
   "execution_count": 57,
   "id": "bccefeec",
   "metadata": {},
   "outputs": [],
   "source": [
    "# Function to turn json into df\n",
    "def getDF(path):\n",
    "  i = 0\n",
    "  df = {}\n",
    "  for d in parse(path):\n",
    "    df[i] = d\n",
    "    i += 1\n",
    "  return pd.DataFrame.from_dict(df, orient='index')"
   ]
  },
  {
   "cell_type": "code",
   "execution_count": 58,
   "id": "a12a3e15",
   "metadata": {},
   "outputs": [],
   "source": [
    "# Importing data\n",
    "df = getDF('Review Data/Software_5.json.gz')"
   ]
  },
  {
   "cell_type": "code",
   "execution_count": 59,
   "id": "e8ac1084",
   "metadata": {},
   "outputs": [
    {
     "data": {
      "text/html": [
       "<div>\n",
       "<style scoped>\n",
       "    .dataframe tbody tr th:only-of-type {\n",
       "        vertical-align: middle;\n",
       "    }\n",
       "\n",
       "    .dataframe tbody tr th {\n",
       "        vertical-align: top;\n",
       "    }\n",
       "\n",
       "    .dataframe thead th {\n",
       "        text-align: right;\n",
       "    }\n",
       "</style>\n",
       "<table border=\"1\" class=\"dataframe\">\n",
       "  <thead>\n",
       "    <tr style=\"text-align: right;\">\n",
       "      <th></th>\n",
       "      <th>overall</th>\n",
       "      <th>verified</th>\n",
       "      <th>reviewTime</th>\n",
       "      <th>reviewerID</th>\n",
       "      <th>asin</th>\n",
       "      <th>style</th>\n",
       "      <th>reviewerName</th>\n",
       "      <th>reviewText</th>\n",
       "      <th>summary</th>\n",
       "      <th>unixReviewTime</th>\n",
       "      <th>vote</th>\n",
       "      <th>image</th>\n",
       "    </tr>\n",
       "  </thead>\n",
       "  <tbody>\n",
       "    <tr>\n",
       "      <th>0</th>\n",
       "      <td>4.0</td>\n",
       "      <td>False</td>\n",
       "      <td>10 20, 2010</td>\n",
       "      <td>A38NELQT98S4H8</td>\n",
       "      <td>0321719816</td>\n",
       "      <td>{'Format:': ' DVD-ROM'}</td>\n",
       "      <td>WB Halper</td>\n",
       "      <td>I've been using Dreamweaver (and it's predeces...</td>\n",
       "      <td>A solid overview of Dreamweaver CS5</td>\n",
       "      <td>1287532800</td>\n",
       "      <td>NaN</td>\n",
       "      <td>NaN</td>\n",
       "    </tr>\n",
       "    <tr>\n",
       "      <th>1</th>\n",
       "      <td>4.0</td>\n",
       "      <td>False</td>\n",
       "      <td>10 18, 2010</td>\n",
       "      <td>A3QJU4FEN8PQSZ</td>\n",
       "      <td>0321719816</td>\n",
       "      <td>{'Format:': ' DVD-ROM'}</td>\n",
       "      <td>Grimmy</td>\n",
       "      <td>The demo is done with the PC version, with ref...</td>\n",
       "      <td>A good value</td>\n",
       "      <td>1287360000</td>\n",
       "      <td>NaN</td>\n",
       "      <td>NaN</td>\n",
       "    </tr>\n",
       "    <tr>\n",
       "      <th>2</th>\n",
       "      <td>5.0</td>\n",
       "      <td>False</td>\n",
       "      <td>10 16, 2010</td>\n",
       "      <td>ACJT8MUC0LRF0</td>\n",
       "      <td>0321719816</td>\n",
       "      <td>{'Format:': ' DVD-ROM'}</td>\n",
       "      <td>D. Fowler</td>\n",
       "      <td>If you've been wanting to learn how to create ...</td>\n",
       "      <td>This is excellent software for those who want ...</td>\n",
       "      <td>1287187200</td>\n",
       "      <td>3</td>\n",
       "      <td>NaN</td>\n",
       "    </tr>\n",
       "    <tr>\n",
       "      <th>3</th>\n",
       "      <td>5.0</td>\n",
       "      <td>False</td>\n",
       "      <td>10 12, 2010</td>\n",
       "      <td>AYUF7YETYOLNX</td>\n",
       "      <td>0321719816</td>\n",
       "      <td>{'Format:': ' DVD-ROM'}</td>\n",
       "      <td>Bryan Newman</td>\n",
       "      <td>I've been creating websites with Dreamweaver f...</td>\n",
       "      <td>A Fantastic Overview of Dream Weaver and Web D...</td>\n",
       "      <td>1286841600</td>\n",
       "      <td>NaN</td>\n",
       "      <td>NaN</td>\n",
       "    </tr>\n",
       "    <tr>\n",
       "      <th>4</th>\n",
       "      <td>5.0</td>\n",
       "      <td>False</td>\n",
       "      <td>10 7, 2010</td>\n",
       "      <td>A31ICLWQ9CSHRS</td>\n",
       "      <td>0321719816</td>\n",
       "      <td>{'Format:': ' DVD-ROM'}</td>\n",
       "      <td>Al Swanson</td>\n",
       "      <td>I decided (after trying a number of other prod...</td>\n",
       "      <td>Excellent Tutorials!</td>\n",
       "      <td>1286409600</td>\n",
       "      <td>NaN</td>\n",
       "      <td>NaN</td>\n",
       "    </tr>\n",
       "  </tbody>\n",
       "</table>\n",
       "</div>"
      ],
      "text/plain": [
       "   overall  verified   reviewTime      reviewerID        asin  \\\n",
       "0      4.0     False  10 20, 2010  A38NELQT98S4H8  0321719816   \n",
       "1      4.0     False  10 18, 2010  A3QJU4FEN8PQSZ  0321719816   \n",
       "2      5.0     False  10 16, 2010   ACJT8MUC0LRF0  0321719816   \n",
       "3      5.0     False  10 12, 2010   AYUF7YETYOLNX  0321719816   \n",
       "4      5.0     False   10 7, 2010  A31ICLWQ9CSHRS  0321719816   \n",
       "\n",
       "                     style  reviewerName  \\\n",
       "0  {'Format:': ' DVD-ROM'}     WB Halper   \n",
       "1  {'Format:': ' DVD-ROM'}        Grimmy   \n",
       "2  {'Format:': ' DVD-ROM'}     D. Fowler   \n",
       "3  {'Format:': ' DVD-ROM'}  Bryan Newman   \n",
       "4  {'Format:': ' DVD-ROM'}    Al Swanson   \n",
       "\n",
       "                                          reviewText  \\\n",
       "0  I've been using Dreamweaver (and it's predeces...   \n",
       "1  The demo is done with the PC version, with ref...   \n",
       "2  If you've been wanting to learn how to create ...   \n",
       "3  I've been creating websites with Dreamweaver f...   \n",
       "4  I decided (after trying a number of other prod...   \n",
       "\n",
       "                                             summary  unixReviewTime vote  \\\n",
       "0                A solid overview of Dreamweaver CS5      1287532800  NaN   \n",
       "1                                       A good value      1287360000  NaN   \n",
       "2  This is excellent software for those who want ...      1287187200    3   \n",
       "3  A Fantastic Overview of Dream Weaver and Web D...      1286841600  NaN   \n",
       "4                               Excellent Tutorials!      1286409600  NaN   \n",
       "\n",
       "  image  \n",
       "0   NaN  \n",
       "1   NaN  \n",
       "2   NaN  \n",
       "3   NaN  \n",
       "4   NaN  "
      ]
     },
     "execution_count": 59,
     "metadata": {},
     "output_type": "execute_result"
    }
   ],
   "source": [
    "df.head()"
   ]
  },
  {
   "cell_type": "markdown",
   "id": "f55f2f97",
   "metadata": {},
   "source": [
    "The only columns that matter to us for this analysis are the \"overall\" and \"reviewText\" columns"
   ]
  },
  {
   "cell_type": "code",
   "execution_count": 60,
   "id": "61dd4c04",
   "metadata": {},
   "outputs": [],
   "source": [
    "# Creating new dataframe with columns we want\n",
    "df = df[['overall','reviewText']].copy()"
   ]
  },
  {
   "cell_type": "code",
   "execution_count": 61,
   "id": "e43a04bd",
   "metadata": {},
   "outputs": [
    {
     "data": {
      "text/html": [
       "<div>\n",
       "<style scoped>\n",
       "    .dataframe tbody tr th:only-of-type {\n",
       "        vertical-align: middle;\n",
       "    }\n",
       "\n",
       "    .dataframe tbody tr th {\n",
       "        vertical-align: top;\n",
       "    }\n",
       "\n",
       "    .dataframe thead th {\n",
       "        text-align: right;\n",
       "    }\n",
       "</style>\n",
       "<table border=\"1\" class=\"dataframe\">\n",
       "  <thead>\n",
       "    <tr style=\"text-align: right;\">\n",
       "      <th></th>\n",
       "      <th>overall</th>\n",
       "      <th>reviewText</th>\n",
       "    </tr>\n",
       "  </thead>\n",
       "  <tbody>\n",
       "    <tr>\n",
       "      <th>0</th>\n",
       "      <td>4.0</td>\n",
       "      <td>I've been using Dreamweaver (and it's predeces...</td>\n",
       "    </tr>\n",
       "    <tr>\n",
       "      <th>1</th>\n",
       "      <td>4.0</td>\n",
       "      <td>The demo is done with the PC version, with ref...</td>\n",
       "    </tr>\n",
       "    <tr>\n",
       "      <th>2</th>\n",
       "      <td>5.0</td>\n",
       "      <td>If you've been wanting to learn how to create ...</td>\n",
       "    </tr>\n",
       "    <tr>\n",
       "      <th>3</th>\n",
       "      <td>5.0</td>\n",
       "      <td>I've been creating websites with Dreamweaver f...</td>\n",
       "    </tr>\n",
       "    <tr>\n",
       "      <th>4</th>\n",
       "      <td>5.0</td>\n",
       "      <td>I decided (after trying a number of other prod...</td>\n",
       "    </tr>\n",
       "  </tbody>\n",
       "</table>\n",
       "</div>"
      ],
      "text/plain": [
       "   overall                                         reviewText\n",
       "0      4.0  I've been using Dreamweaver (and it's predeces...\n",
       "1      4.0  The demo is done with the PC version, with ref...\n",
       "2      5.0  If you've been wanting to learn how to create ...\n",
       "3      5.0  I've been creating websites with Dreamweaver f...\n",
       "4      5.0  I decided (after trying a number of other prod..."
      ]
     },
     "execution_count": 61,
     "metadata": {},
     "output_type": "execute_result"
    }
   ],
   "source": [
    "df.head()"
   ]
  },
  {
   "cell_type": "code",
   "execution_count": 62,
   "id": "137a43a7",
   "metadata": {},
   "outputs": [],
   "source": [
    "# Renaming the columns to be easier to read\n",
    "df = newDF.rename(columns={'overall' : 'Score', 'reviewText': 'Review'})"
   ]
  },
  {
   "cell_type": "code",
   "execution_count": 63,
   "id": "90469462",
   "metadata": {},
   "outputs": [
    {
     "data": {
      "text/html": [
       "<div>\n",
       "<style scoped>\n",
       "    .dataframe tbody tr th:only-of-type {\n",
       "        vertical-align: middle;\n",
       "    }\n",
       "\n",
       "    .dataframe tbody tr th {\n",
       "        vertical-align: top;\n",
       "    }\n",
       "\n",
       "    .dataframe thead th {\n",
       "        text-align: right;\n",
       "    }\n",
       "</style>\n",
       "<table border=\"1\" class=\"dataframe\">\n",
       "  <thead>\n",
       "    <tr style=\"text-align: right;\">\n",
       "      <th></th>\n",
       "      <th>Score</th>\n",
       "      <th>Review</th>\n",
       "    </tr>\n",
       "  </thead>\n",
       "  <tbody>\n",
       "    <tr>\n",
       "      <th>0</th>\n",
       "      <td>4.0</td>\n",
       "      <td>I've been using Dreamweaver (and it's predeces...</td>\n",
       "    </tr>\n",
       "    <tr>\n",
       "      <th>1</th>\n",
       "      <td>4.0</td>\n",
       "      <td>The demo is done with the PC version, with ref...</td>\n",
       "    </tr>\n",
       "    <tr>\n",
       "      <th>2</th>\n",
       "      <td>5.0</td>\n",
       "      <td>If you've been wanting to learn how to create ...</td>\n",
       "    </tr>\n",
       "    <tr>\n",
       "      <th>3</th>\n",
       "      <td>5.0</td>\n",
       "      <td>I've been creating websites with Dreamweaver f...</td>\n",
       "    </tr>\n",
       "    <tr>\n",
       "      <th>4</th>\n",
       "      <td>5.0</td>\n",
       "      <td>I decided (after trying a number of other prod...</td>\n",
       "    </tr>\n",
       "  </tbody>\n",
       "</table>\n",
       "</div>"
      ],
      "text/plain": [
       "   Score                                             Review\n",
       "0    4.0  I've been using Dreamweaver (and it's predeces...\n",
       "1    4.0  The demo is done with the PC version, with ref...\n",
       "2    5.0  If you've been wanting to learn how to create ...\n",
       "3    5.0  I've been creating websites with Dreamweaver f...\n",
       "4    5.0  I decided (after trying a number of other prod..."
      ]
     },
     "execution_count": 63,
     "metadata": {},
     "output_type": "execute_result"
    }
   ],
   "source": [
    "df.head()"
   ]
  },
  {
   "cell_type": "code",
   "execution_count": 64,
   "id": "ffcd3f2e",
   "metadata": {},
   "outputs": [
    {
     "data": {
      "text/plain": [
       "Score     False\n",
       "Review     True\n",
       "dtype: bool"
      ]
     },
     "execution_count": 64,
     "metadata": {},
     "output_type": "execute_result"
    }
   ],
   "source": [
    "# Checking for null values\n",
    "df.isna().any()"
   ]
  },
  {
   "cell_type": "code",
   "execution_count": 65,
   "id": "64d7437f",
   "metadata": {},
   "outputs": [],
   "source": [
    "# Removing rows with null values\n",
    "df = df.dropna(subset=['Review'])"
   ]
  },
  {
   "cell_type": "code",
   "execution_count": 66,
   "id": "ec6b0f05",
   "metadata": {},
   "outputs": [
    {
     "data": {
      "text/plain": [
       "Score     False\n",
       "Review    False\n",
       "dtype: bool"
      ]
     },
     "execution_count": 66,
     "metadata": {},
     "output_type": "execute_result"
    }
   ],
   "source": [
    "# Checking again for null values\n",
    "df.isna().any()"
   ]
  },
  {
   "cell_type": "markdown",
   "id": "30f402ca",
   "metadata": {},
   "source": [
    "False, meaning there are now no nulls"
   ]
  },
  {
   "cell_type": "code",
   "execution_count": 67,
   "id": "71f58893",
   "metadata": {},
   "outputs": [],
   "source": [
    "# Creating \"Sentiments\" columns for the dataframe. This will be if the score is 0-2, the review is considered negative,\n",
    "# If the score is 3-5 the reviw is considered positive. 0 = negative, 1 = positive\n",
    "df['Sentiments'] = df.Score.apply(lambda x: 0 if x in [1, 2] else 1)"
   ]
  },
  {
   "cell_type": "code",
   "execution_count": 68,
   "id": "3de4303e",
   "metadata": {},
   "outputs": [
    {
     "data": {
      "text/html": [
       "<div>\n",
       "<style scoped>\n",
       "    .dataframe tbody tr th:only-of-type {\n",
       "        vertical-align: middle;\n",
       "    }\n",
       "\n",
       "    .dataframe tbody tr th {\n",
       "        vertical-align: top;\n",
       "    }\n",
       "\n",
       "    .dataframe thead th {\n",
       "        text-align: right;\n",
       "    }\n",
       "</style>\n",
       "<table border=\"1\" class=\"dataframe\">\n",
       "  <thead>\n",
       "    <tr style=\"text-align: right;\">\n",
       "      <th></th>\n",
       "      <th>Score</th>\n",
       "      <th>Review</th>\n",
       "      <th>Sentiments</th>\n",
       "    </tr>\n",
       "  </thead>\n",
       "  <tbody>\n",
       "    <tr>\n",
       "      <th>0</th>\n",
       "      <td>4.0</td>\n",
       "      <td>I've been using Dreamweaver (and it's predeces...</td>\n",
       "      <td>1</td>\n",
       "    </tr>\n",
       "    <tr>\n",
       "      <th>1</th>\n",
       "      <td>4.0</td>\n",
       "      <td>The demo is done with the PC version, with ref...</td>\n",
       "      <td>1</td>\n",
       "    </tr>\n",
       "    <tr>\n",
       "      <th>2</th>\n",
       "      <td>5.0</td>\n",
       "      <td>If you've been wanting to learn how to create ...</td>\n",
       "      <td>1</td>\n",
       "    </tr>\n",
       "    <tr>\n",
       "      <th>3</th>\n",
       "      <td>5.0</td>\n",
       "      <td>I've been creating websites with Dreamweaver f...</td>\n",
       "      <td>1</td>\n",
       "    </tr>\n",
       "    <tr>\n",
       "      <th>4</th>\n",
       "      <td>5.0</td>\n",
       "      <td>I decided (after trying a number of other prod...</td>\n",
       "      <td>1</td>\n",
       "    </tr>\n",
       "  </tbody>\n",
       "</table>\n",
       "</div>"
      ],
      "text/plain": [
       "   Score                                             Review  Sentiments\n",
       "0    4.0  I've been using Dreamweaver (and it's predeces...           1\n",
       "1    4.0  The demo is done with the PC version, with ref...           1\n",
       "2    5.0  If you've been wanting to learn how to create ...           1\n",
       "3    5.0  I've been creating websites with Dreamweaver f...           1\n",
       "4    5.0  I decided (after trying a number of other prod...           1"
      ]
     },
     "execution_count": 68,
     "metadata": {},
     "output_type": "execute_result"
    }
   ],
   "source": [
    "df.head()"
   ]
  },
  {
   "cell_type": "code",
   "execution_count": 78,
   "id": "a2fc6885",
   "metadata": {},
   "outputs": [],
   "source": [
    "# Defining special characters\n",
    "spec_chars = [\"!\",'\"',\"#\",\"%\",\"&\",\"'\",\"(\",\")\",\n",
    " \"*\",\"+\",\",\",\"-\",\".\",\"/\",\":\",\";\",\"<\",\n",
    " \"=\",\">\",\"?\",\"@\",\"[\",\"\\\\\",\"]\",\"^\",\"_\",\n",
    " \"`\",\"{\",\"|\",\"}\",\"~\",\"–\"]"
   ]
  },
  {
   "cell_type": "code",
   "execution_count": 80,
   "id": "90e2414e",
   "metadata": {},
   "outputs": [],
   "source": [
    "# Replacing special characters with spaces\n",
    "for char in spec_chars:\n",
    " df['Review'] = df['Review'].str.replace(char, ' ',regex=True)"
   ]
  },
  {
   "cell_type": "code",
   "execution_count": 81,
   "id": "2478655f",
   "metadata": {},
   "outputs": [
    {
     "data": {
      "text/html": [
       "<div>\n",
       "<style scoped>\n",
       "    .dataframe tbody tr th:only-of-type {\n",
       "        vertical-align: middle;\n",
       "    }\n",
       "\n",
       "    .dataframe tbody tr th {\n",
       "        vertical-align: top;\n",
       "    }\n",
       "\n",
       "    .dataframe thead th {\n",
       "        text-align: right;\n",
       "    }\n",
       "</style>\n",
       "<table border=\"1\" class=\"dataframe\">\n",
       "  <thead>\n",
       "    <tr style=\"text-align: right;\">\n",
       "      <th></th>\n",
       "      <th>Score</th>\n",
       "      <th>Review</th>\n",
       "      <th>Sentiments</th>\n",
       "    </tr>\n",
       "  </thead>\n",
       "  <tbody>\n",
       "    <tr>\n",
       "      <th>0</th>\n",
       "      <td>4.0</td>\n",
       "      <td>I ve been using Dreamweaver  and it s predeces...</td>\n",
       "      <td>1</td>\n",
       "    </tr>\n",
       "    <tr>\n",
       "      <th>1</th>\n",
       "      <td>4.0</td>\n",
       "      <td>The demo is done with the PC version  with ref...</td>\n",
       "      <td>1</td>\n",
       "    </tr>\n",
       "    <tr>\n",
       "      <th>2</th>\n",
       "      <td>5.0</td>\n",
       "      <td>If you ve been wanting to learn how to create ...</td>\n",
       "      <td>1</td>\n",
       "    </tr>\n",
       "    <tr>\n",
       "      <th>3</th>\n",
       "      <td>5.0</td>\n",
       "      <td>I ve been creating websites with Dreamweaver f...</td>\n",
       "      <td>1</td>\n",
       "    </tr>\n",
       "    <tr>\n",
       "      <th>4</th>\n",
       "      <td>5.0</td>\n",
       "      <td>I decided  after trying a number of other prod...</td>\n",
       "      <td>1</td>\n",
       "    </tr>\n",
       "  </tbody>\n",
       "</table>\n",
       "</div>"
      ],
      "text/plain": [
       "   Score                                             Review  Sentiments\n",
       "0    4.0  I ve been using Dreamweaver  and it s predeces...           1\n",
       "1    4.0  The demo is done with the PC version  with ref...           1\n",
       "2    5.0  If you ve been wanting to learn how to create ...           1\n",
       "3    5.0  I ve been creating websites with Dreamweaver f...           1\n",
       "4    5.0  I decided  after trying a number of other prod...           1"
      ]
     },
     "execution_count": 81,
     "metadata": {},
     "output_type": "execute_result"
    }
   ],
   "source": [
    "df.head()"
   ]
  },
  {
   "cell_type": "code",
   "execution_count": 82,
   "id": "e1015bbe",
   "metadata": {},
   "outputs": [],
   "source": [
    "# Replacing all capitals with lowercase\n",
    "df['Review'] = df['Review'].str.lower()"
   ]
  },
  {
   "cell_type": "code",
   "execution_count": 83,
   "id": "1b811561",
   "metadata": {},
   "outputs": [
    {
     "data": {
      "text/html": [
       "<div>\n",
       "<style scoped>\n",
       "    .dataframe tbody tr th:only-of-type {\n",
       "        vertical-align: middle;\n",
       "    }\n",
       "\n",
       "    .dataframe tbody tr th {\n",
       "        vertical-align: top;\n",
       "    }\n",
       "\n",
       "    .dataframe thead th {\n",
       "        text-align: right;\n",
       "    }\n",
       "</style>\n",
       "<table border=\"1\" class=\"dataframe\">\n",
       "  <thead>\n",
       "    <tr style=\"text-align: right;\">\n",
       "      <th></th>\n",
       "      <th>Score</th>\n",
       "      <th>Review</th>\n",
       "      <th>Sentiments</th>\n",
       "    </tr>\n",
       "  </thead>\n",
       "  <tbody>\n",
       "    <tr>\n",
       "      <th>0</th>\n",
       "      <td>4.0</td>\n",
       "      <td>i ve been using dreamweaver  and it s predeces...</td>\n",
       "      <td>1</td>\n",
       "    </tr>\n",
       "    <tr>\n",
       "      <th>1</th>\n",
       "      <td>4.0</td>\n",
       "      <td>the demo is done with the pc version  with ref...</td>\n",
       "      <td>1</td>\n",
       "    </tr>\n",
       "    <tr>\n",
       "      <th>2</th>\n",
       "      <td>5.0</td>\n",
       "      <td>if you ve been wanting to learn how to create ...</td>\n",
       "      <td>1</td>\n",
       "    </tr>\n",
       "    <tr>\n",
       "      <th>3</th>\n",
       "      <td>5.0</td>\n",
       "      <td>i ve been creating websites with dreamweaver f...</td>\n",
       "      <td>1</td>\n",
       "    </tr>\n",
       "    <tr>\n",
       "      <th>4</th>\n",
       "      <td>5.0</td>\n",
       "      <td>i decided  after trying a number of other prod...</td>\n",
       "      <td>1</td>\n",
       "    </tr>\n",
       "  </tbody>\n",
       "</table>\n",
       "</div>"
      ],
      "text/plain": [
       "   Score                                             Review  Sentiments\n",
       "0    4.0  i ve been using dreamweaver  and it s predeces...           1\n",
       "1    4.0  the demo is done with the pc version  with ref...           1\n",
       "2    5.0  if you ve been wanting to learn how to create ...           1\n",
       "3    5.0  i ve been creating websites with dreamweaver f...           1\n",
       "4    5.0  i decided  after trying a number of other prod...           1"
      ]
     },
     "execution_count": 83,
     "metadata": {},
     "output_type": "execute_result"
    }
   ],
   "source": [
    "df.head()"
   ]
  },
  {
   "cell_type": "code",
   "execution_count": 93,
   "id": "c8ebdfab",
   "metadata": {},
   "outputs": [],
   "source": [
    "# export file to csv\n",
    "df.to_csv('cleaned_data2.csv', index = False)"
   ]
  },
  {
   "cell_type": "markdown",
   "id": "c0a4f336",
   "metadata": {},
   "source": [
    "The goal of tokenizing is to change the strings of words each into their own individual string, so 1 word = 1 string. This way we can run analysis on each word by themselves rather than the whole string of words."
   ]
  },
  {
   "cell_type": "code",
   "execution_count": 73,
   "id": "7c81a04e",
   "metadata": {},
   "outputs": [],
   "source": [
    "# Splitting data into training and testing data\n",
    "# Splitting into 80/20 training/testing data\n",
    "split = round(len(df)*0.8)\n",
    "train_reviews = df['Review'][:split]\n",
    "train_label = df['Sentiments'][:split]\n",
    "test_reviews = df['Review'][split:]\n",
    "test_label = df['Sentiments'][split:]"
   ]
  },
  {
   "cell_type": "code",
   "execution_count": 74,
   "id": "25d041ad",
   "metadata": {},
   "outputs": [],
   "source": [
    "# After tokenization, this will convert each review into a string\n",
    "training_sentences = []\n",
    "training_labels = []\n",
    "testing_sentences = []\n",
    "testing_labels = []\n",
    "for row in train_reviews:\n",
    "    training_sentences.append(str(row))\n",
    "for row in train_label:\n",
    "    training_labels.append(row)\n",
    "for row in test_reviews:\n",
    "    testing_sentences.append(str(row))\n",
    "for row in test_label:\n",
    "    testing_labels.append(row)"
   ]
  },
  {
   "cell_type": "code",
   "execution_count": 84,
   "id": "3d7f22b6",
   "metadata": {},
   "outputs": [],
   "source": [
    "# Setting vocab size to 50000, which will take 50000 words to train\n",
    "vocab_size = 50000\n",
    "# Embedding to 16 dimensions\n",
    "embedding_dim = 16\n",
    "# Max length of 150 words per review\n",
    "max_length = 150\n",
    "# IF review is bigger than 150 words, it will be truncated \"post\" or after the 150th word\n",
    "trunc_type = 'post'\n",
    "oov_tok = '<OOV>'\n",
    "# Padding type \"post\" meaning each word will recieve padding after, not before\n",
    "padding_type = 'post'"
   ]
  },
  {
   "cell_type": "code",
   "execution_count": 76,
   "id": "24ee9aa1",
   "metadata": {},
   "outputs": [],
   "source": [
    "# Setting up tokenizer\n",
    "tokenizer = Tokenizer(num_words=vocab_size, oov_token=oov_tok)\n",
    "# Fitting tokenizer\n",
    "tokenizer.fit_on_texts(training_sentences)\n",
    "# Getting word index\n",
    "word_index = tokenizer.word_index"
   ]
  },
  {
   "cell_type": "code",
   "execution_count": 77,
   "id": "63ed7c0c",
   "metadata": {},
   "outputs": [],
   "source": [
    "# Setting sequences\n",
    "sequences = tokenizer.texts_to_sequences(training_sentences)\n",
    "# Setting padding\n",
    "padded = pad_sequences(sequences, maxlen=max_length, truncating=trunc_type)\n",
    "testing_sentences = tokenizer.texts_to_sequences(testing_sentences)\n",
    "testing_padded = pad_sequences(testing_sentences, maxlen=max_length)"
   ]
  },
  {
   "cell_type": "code",
   "execution_count": 85,
   "id": "f4a678b7",
   "metadata": {},
   "outputs": [
    {
     "data": {
      "text/plain": [
       "array([[   92,    65,    69, ...,   208,     4,  1443],\n",
       "       [    2,  2858,     9, ...,   652,     7,     9],\n",
       "       [   26,   850,    65, ...,    28, 13570,   352],\n",
       "       ...,\n",
       "       [   64,     8,     2, ...,     3,    24,  1153],\n",
       "       [    2,   526,   780, ...,  4484,    11,  3037],\n",
       "       [    0,     0,     0, ...,    20,  9095,   825]])"
      ]
     },
     "execution_count": 85,
     "metadata": {},
     "output_type": "execute_result"
    }
   ],
   "source": [
    "# Padded array\n",
    "padded"
   ]
  },
  {
   "cell_type": "markdown",
   "id": "8534fbbf",
   "metadata": {},
   "source": [
    "## Part III:  Network Architecture"
   ]
  },
  {
   "cell_type": "code",
   "execution_count": 96,
   "id": "a0bc73b5",
   "metadata": {},
   "outputs": [],
   "source": [
    "# Creating model\n",
    "model = tf.keras.Sequential([\n",
    "    tf.keras.layers.Embedding(vocab_size, embedding_dim, input_length=max_length),\n",
    "    tf.keras.layers.GlobalAveragePooling1D(),\n",
    "    tf.keras.layers.Dense(10, activation='relu'),\n",
    "    tf.keras.layers.Dense(6, activation='relu'),\n",
    "    tf.keras.layers.Dense(1, activation='relu')\n",
    "])"
   ]
  },
  {
   "cell_type": "markdown",
   "id": "e2b2af6c",
   "metadata": {},
   "source": [
    "Creating Tensorflow Keras model. The first layer is the embedding layer with the parameters defined before. The second layer is GlobalAveragePooling1D which sets the model to 2d rather than 3d. The third layer has a density of 10 with relu activation. The fourth layer has 6 density also with relu activiation, and the final 5th layer has 1 density with relu. We are using relu because it is a rectified linear activation function. It outputs the input value for positive values, and 0 for negative values, and we are only using binary 0 and 1 for this analysis. The density was taken over several different tests finding which ones provided the highest accuracy in the least iterations."
   ]
  },
  {
   "cell_type": "code",
   "execution_count": 97,
   "id": "1151bcd0",
   "metadata": {},
   "outputs": [],
   "source": [
    "# Compiling the model\n",
    "model.compile(loss='binary_crossentropy', optimizer='adam', metrics=['accuracy'])"
   ]
  },
  {
   "cell_type": "markdown",
   "id": "ebe4bd0d",
   "metadata": {},
   "source": [
    "Using accuracy as the model evaluation metric and adam as the optimizer. The loss function is binary_crossentropy. This works well for this analysis because we are using binary classification, either 0 or 1. Using adam as the optimizer because it is very efficient and has very little memory requirement."
   ]
  },
  {
   "cell_type": "code",
   "execution_count": 98,
   "id": "7295185a",
   "metadata": {},
   "outputs": [
    {
     "name": "stdout",
     "output_type": "stream",
     "text": [
      "Model: \"sequential\"\n",
      "_________________________________________________________________\n",
      "Layer (type)                 Output Shape              Param #   \n",
      "=================================================================\n",
      "embedding (Embedding)        (None, 120, 16)           800000    \n",
      "_________________________________________________________________\n",
      "global_average_pooling1d (Gl (None, 16)                0         \n",
      "_________________________________________________________________\n",
      "dense (Dense)                (None, 10)                170       \n",
      "_________________________________________________________________\n",
      "dense_1 (Dense)              (None, 6)                 66        \n",
      "_________________________________________________________________\n",
      "dense_2 (Dense)              (None, 1)                 7         \n",
      "=================================================================\n",
      "Total params: 800,243\n",
      "Trainable params: 800,243\n",
      "Non-trainable params: 0\n",
      "_________________________________________________________________\n"
     ]
    }
   ],
   "source": [
    "model.summary()"
   ]
  },
  {
   "cell_type": "code",
   "execution_count": 99,
   "id": "2ab93212",
   "metadata": {},
   "outputs": [],
   "source": [
    "# Training the model\n",
    "training_labels_final = np.array(training_labels)\n",
    "testing_labels_final = np.array(testing_labels)"
   ]
  },
  {
   "cell_type": "markdown",
   "id": "b0ca3e44",
   "metadata": {},
   "source": [
    "## Part IV:  Model Evaluation"
   ]
  },
  {
   "cell_type": "code",
   "execution_count": 112,
   "id": "0f0d2992",
   "metadata": {},
   "outputs": [
    {
     "name": "stdout",
     "output_type": "stream",
     "text": [
      "Epoch 1/25\n",
      "321/321 [==============================] - 3s 10ms/step - loss: 0.0082 - accuracy: 0.9982 - val_loss: 0.7028 - val_accuracy: 0.8782\n",
      "Epoch 2/25\n",
      "321/321 [==============================] - 3s 10ms/step - loss: 0.0091 - accuracy: 0.9976 - val_loss: 0.7221 - val_accuracy: 0.8692\n",
      "Epoch 3/25\n",
      "321/321 [==============================] - 3s 10ms/step - loss: 0.0088 - accuracy: 0.9973 - val_loss: 0.7348 - val_accuracy: 0.8657\n",
      "Epoch 4/25\n",
      "321/321 [==============================] - 3s 10ms/step - loss: 0.0077 - accuracy: 0.9980 - val_loss: 0.7461 - val_accuracy: 0.8708\n",
      "Epoch 5/25\n",
      "321/321 [==============================] - 3s 10ms/step - loss: 0.0070 - accuracy: 0.9983 - val_loss: 0.7628 - val_accuracy: 0.8766\n",
      "Epoch 6/25\n",
      "321/321 [==============================] - 3s 10ms/step - loss: 0.0070 - accuracy: 0.9985 - val_loss: 0.7850 - val_accuracy: 0.8688\n",
      "Epoch 7/25\n",
      "321/321 [==============================] - 3s 10ms/step - loss: 0.0068 - accuracy: 0.9981 - val_loss: 0.8683 - val_accuracy: 0.8641\n",
      "Epoch 8/25\n",
      "321/321 [==============================] - 3s 10ms/step - loss: 0.0070 - accuracy: 0.9982 - val_loss: 0.8276 - val_accuracy: 0.8688\n",
      "Epoch 9/25\n",
      "321/321 [==============================] - 3s 10ms/step - loss: 0.0058 - accuracy: 0.9987 - val_loss: 0.8191 - val_accuracy: 0.8668\n",
      "Epoch 10/25\n",
      "321/321 [==============================] - 3s 10ms/step - loss: 0.0052 - accuracy: 0.9990 - val_loss: 0.8385 - val_accuracy: 0.8665\n",
      "Epoch 11/25\n",
      "321/321 [==============================] - 3s 10ms/step - loss: 0.0064 - accuracy: 0.9984 - val_loss: 0.8397 - val_accuracy: 0.8672\n",
      "Epoch 12/25\n",
      "321/321 [==============================] - 3s 10ms/step - loss: 0.0059 - accuracy: 0.9984 - val_loss: 0.8516 - val_accuracy: 0.8680\n",
      "Epoch 13/25\n",
      "321/321 [==============================] - 3s 10ms/step - loss: 0.0048 - accuracy: 0.9990 - val_loss: 0.8807 - val_accuracy: 0.8594\n",
      "Epoch 14/25\n",
      "321/321 [==============================] - 3s 10ms/step - loss: 0.0048 - accuracy: 0.9990 - val_loss: 0.8866 - val_accuracy: 0.8665\n",
      "Epoch 15/25\n",
      "321/321 [==============================] - 3s 10ms/step - loss: 0.0053 - accuracy: 0.9987 - val_loss: 0.8940 - val_accuracy: 0.8622\n",
      "Epoch 16/25\n",
      "321/321 [==============================] - 3s 10ms/step - loss: 0.0052 - accuracy: 0.9984 - val_loss: 0.9107 - val_accuracy: 0.8657\n",
      "Epoch 17/25\n",
      "321/321 [==============================] - 3s 10ms/step - loss: 0.0045 - accuracy: 0.9989 - val_loss: 0.9323 - val_accuracy: 0.8684\n",
      "Epoch 18/25\n",
      "321/321 [==============================] - 3s 10ms/step - loss: 0.0038 - accuracy: 0.9992 - val_loss: 0.9508 - val_accuracy: 0.8665\n",
      "Epoch 19/25\n",
      "321/321 [==============================] - 3s 10ms/step - loss: 0.0049 - accuracy: 0.9989 - val_loss: 0.9589 - val_accuracy: 0.8676\n",
      "Epoch 20/25\n",
      "321/321 [==============================] - 3s 10ms/step - loss: 0.0052 - accuracy: 0.9990 - val_loss: 1.0110 - val_accuracy: 0.8641\n",
      "Epoch 21/25\n",
      "321/321 [==============================] - 3s 10ms/step - loss: 0.0049 - accuracy: 0.9988 - val_loss: 1.0393 - val_accuracy: 0.8352\n",
      "Epoch 22/25\n",
      "321/321 [==============================] - 3s 10ms/step - loss: 0.0066 - accuracy: 0.9985 - val_loss: 0.9902 - val_accuracy: 0.8665\n",
      "Epoch 23/25\n",
      "321/321 [==============================] - 3s 10ms/step - loss: 0.0040 - accuracy: 0.9989 - val_loss: 1.0126 - val_accuracy: 0.8668\n",
      "Epoch 24/25\n",
      "321/321 [==============================] - 3s 10ms/step - loss: 0.0045 - accuracy: 0.9989 - val_loss: 1.0537 - val_accuracy: 0.8344\n",
      "Epoch 25/25\n",
      "321/321 [==============================] - 3s 10ms/step - loss: 0.0049 - accuracy: 0.9989 - val_loss: 1.0440 - val_accuracy: 0.8641\n"
     ]
    }
   ],
   "source": [
    "# Running the model for 25 epochs\n",
    "history1 = model.fit(padded, training_labels_final, epochs=25, validation_data=(testing_padded, testing_labels_final))"
   ]
  },
  {
   "cell_type": "code",
   "execution_count": 116,
   "id": "bf2c75d0",
   "metadata": {},
   "outputs": [
    {
     "name": "stdout",
     "output_type": "stream",
     "text": [
      "Epoch 1/25\n",
      "321/321 [==============================] - 3s 10ms/step - loss: 0.0045 - accuracy: 0.9989 - val_loss: 1.0380 - val_accuracy: 0.8571\n",
      "Epoch 2/25\n",
      "321/321 [==============================] - 3s 11ms/step - loss: 0.0056 - accuracy: 0.9984 - val_loss: 1.0392 - val_accuracy: 0.8579\n",
      "Epoch 3/25\n",
      "321/321 [==============================] - 4s 11ms/step - loss: 0.0041 - accuracy: 0.9987 - val_loss: 1.0445 - val_accuracy: 0.8606\n",
      "Epoch 4/25\n",
      "321/321 [==============================] - 3s 11ms/step - loss: 0.0048 - accuracy: 0.9990 - val_loss: 1.0586 - val_accuracy: 0.8661\n",
      "Epoch 5/25\n",
      "321/321 [==============================] - 3s 10ms/step - loss: 0.0049 - accuracy: 0.9989 - val_loss: 1.0403 - val_accuracy: 0.8700\n",
      "Epoch 6/25\n",
      "321/321 [==============================] - 3s 10ms/step - loss: 0.0046 - accuracy: 0.9988 - val_loss: 1.0507 - val_accuracy: 0.8598\n"
     ]
    }
   ],
   "source": [
    "# Setting up early stopping to prevent overfitting\n",
    "earlystopping = callbacks.EarlyStopping(monitor =\"val_loss\", \n",
    "                                        mode =\"min\", patience = 5, \n",
    "                                        restore_best_weights = True)\n",
    "\n",
    "# Running the model for 25 epochs\n",
    "history2 = model.fit(padded, training_labels_final, epochs=25, validation_data=(testing_padded, testing_labels_final),callbacks = [earlystopping])"
   ]
  },
  {
   "cell_type": "markdown",
   "id": "7b91e135",
   "metadata": {},
   "source": [
    "The model stopped running at 6 epochs, meaning 6 may be the optimal number"
   ]
  },
  {
   "cell_type": "code",
   "execution_count": 115,
   "id": "b97d666b",
   "metadata": {},
   "outputs": [
    {
     "name": "stdout",
     "output_type": "stream",
     "text": [
      "Epoch 1/25\n",
      "81/81 [==============================] - 1s 11ms/step - loss: 0.0031 - accuracy: 0.9993 - val_loss: 1.0129 - val_accuracy: 0.8641\n",
      "Epoch 2/25\n",
      "81/81 [==============================] - 1s 11ms/step - loss: 0.0025 - accuracy: 0.9993 - val_loss: 1.0236 - val_accuracy: 0.8622\n",
      "Epoch 3/25\n",
      "81/81 [==============================] - 1s 11ms/step - loss: 0.0029 - accuracy: 0.9991 - val_loss: 1.0468 - val_accuracy: 0.8684\n",
      "Epoch 4/25\n",
      "81/81 [==============================] - 1s 11ms/step - loss: 0.0050 - accuracy: 0.9984 - val_loss: 1.0564 - val_accuracy: 0.8567\n",
      "Epoch 5/25\n",
      "81/81 [==============================] - 1s 11ms/step - loss: 0.0032 - accuracy: 0.9993 - val_loss: 1.0459 - val_accuracy: 0.8637\n",
      "Epoch 6/25\n",
      "81/81 [==============================] - 1s 11ms/step - loss: 0.0029 - accuracy: 0.9993 - val_loss: 1.0330 - val_accuracy: 0.8641\n"
     ]
    }
   ],
   "source": [
    "# Running the model for 25 epochs, with batch size 128\n",
    "history3 = model.fit(padded, training_labels_final, epochs=25, batch_size=128, validation_data=(testing_padded, testing_labels_final),callbacks = [earlystopping])"
   ]
  },
  {
   "cell_type": "markdown",
   "id": "fa8dfd05",
   "metadata": {},
   "source": [
    "Running with another batch size, the model stopped again at 6 epochs, furthur confirming that 6 is the optimal number of epochs."
   ]
  },
  {
   "cell_type": "markdown",
   "id": "e88c8fa7",
   "metadata": {},
   "source": [
    "The accuracy tops at 6 epochs at 0.9993 and the val accuracy at 0.8641. This means that there is a 86% of predicting the correct sentiment based on the words in a review."
   ]
  },
  {
   "cell_type": "code",
   "execution_count": 117,
   "id": "04ca4f7d",
   "metadata": {},
   "outputs": [
    {
     "data": {
      "image/png": "[encoded data removed]",
      "text/plain": [
       "<Figure size 432x288 with 1 Axes>"
      ]
     },
     "metadata": {
      "needs_background": "light"
     },
     "output_type": "display_data"
    }
   ],
   "source": [
    "# Vizualizing epoch vs Mean Absolute Error\n",
    "plt.plot(history1.history['loss'], label='MAE (training data)')\n",
    "plt.title('MAE vs epoch')\n",
    "plt.ylabel('MAE value')\n",
    "plt.xlabel('No. epoch')\n",
    "plt.legend(loc=\"upper left\")\n",
    "plt.show()"
   ]
  },
  {
   "cell_type": "markdown",
   "id": "18c5f42c",
   "metadata": {},
   "source": [
    "We can see in a vizualization that the graph drops off after 6 epoch, furthur solidifying that 6 is the optimal number."
   ]
  },
  {
   "cell_type": "code",
   "execution_count": 123,
   "id": "438c2324",
   "metadata": {},
   "outputs": [
    {
     "data": {
      "image/png": "[encoded data removed]",
      "text/plain": [
       "<Figure size 432x288 with 1 Axes>"
      ]
     },
     "metadata": {
      "needs_background": "light"
     },
     "output_type": "display_data"
    }
   ],
   "source": [
    "plt.plot(history1.history['accuracy'], label='Accuracy')\n",
    "plt.title('accuracy vs epoch')\n",
    "plt.ylabel('accuracy value')\n",
    "plt.xlabel('No. epoch')\n",
    "plt.legend(loc=\"upper left\")\n",
    "plt.show()"
   ]
  },
  {
   "cell_type": "code",
   "execution_count": 126,
   "id": "a45e638c",
   "metadata": {},
   "outputs": [
    {
     "data": {
      "text/plain": [
       "<Figure size 432x288 with 0 Axes>"
      ]
     },
     "execution_count": 126,
     "metadata": {},
     "output_type": "execute_result"
    },
    {
     "data": {
      "image/png": "[encoded data removed]",
      "text/plain": [
       "<Figure size 432x288 with 1 Axes>"
      ]
     },
     "metadata": {
      "needs_background": "light"
     },
     "output_type": "display_data"
    },
    {
     "data": {
      "image/png": "[encoded data removed]",
      "text/plain": [
       "<Figure size 432x288 with 1 Axes>"
      ]
     },
     "metadata": {
      "needs_background": "light"
     },
     "output_type": "display_data"
    },
    {
     "data": {
      "text/plain": [
       "<Figure size 432x288 with 0 Axes>"
      ]
     },
     "metadata": {},
     "output_type": "display_data"
    }
   ],
   "source": [
    "acc = history1.history['accuracy']\n",
    "val_acc = history1.history['val_accuracy']\n",
    "loss = history1.history['loss']\n",
    "val_loss = history1.history['val_loss']\n",
    "epochs=range(len(acc))\n",
    "plt.plot(epochs, acc, 'r', 'Training Accuracy')\n",
    "plt.plot(epochs, val_acc, 'b', 'Validation Accuracy')\n",
    "plt.title('Training and validation accuracy')\n",
    "plt.figure()\n",
    "plt.plot(epochs, loss, 'r', 'Training Loss')\n",
    "plt.plot(epochs, val_loss, 'b', 'Validation Loss')\n",
    "plt.title('Training and validation loss')\n",
    "plt.figure()"
   ]
  },
  {
   "cell_type": "markdown",
   "id": "c8b25cd5",
   "metadata": {},
   "source": [
    "## Part V:  Summary and Recommendations"
   ]
  },
  {
   "cell_type": "markdown",
   "id": "d393f255",
   "metadata": {},
   "source": [
    "This neural network has a fairly good outcome with a predicted accuracy of around 86%. This means there is around an 86% to correctly predict customer sentiment based on the words in their review. The impact of the network architecture has an effect on the accuracy, however through training and validation we have found a consistent and accurate architecture. Although accuracy increases after 6 epochs, we then start getting into overfitting territory, so although the results may look better after 6 epochs, they are actually not accurate. That is why implementing early stops to prevent overfitting is important."
   ]
  },
  {
   "cell_type": "markdown",
   "id": "38b8a65a",
   "metadata": {},
   "source": [
    "A course of action a company could take based on these results is knowing that they can achieve with a high accuracy in predicting customer sentiment. They could then use this information to predict what a customer will do based on the words they say. The company could then tell if a customer does not like a product and they could follow up with that customer individually and try to rectify the problem and make the customer change their sentiment."
   ]
  },
  {
   "cell_type": "code",
   "execution_count": null,
   "id": "1d8b52bc",
   "metadata": {},
   "outputs": [],
   "source": []
  }
 ],
 "metadata": {
  "kernelspec": {
   "display_name": "Python 3",
   "language": "python",
   "name": "python3"
  },
  "language_info": {
   "codemirror_mode": {
    "name": "ipython",
    "version": 3
   },
   "file_extension": ".py",
   "mimetype": "text/x-python",
   "name": "python",
   "nbconvert_exporter": "python",
   "pygments_lexer": "ipython3",
   "version": "3.8.8"
  }
 },
 "nbformat": 4,
 "nbformat_minor": 5
}
